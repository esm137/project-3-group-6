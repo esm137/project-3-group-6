{
 "cells": [
  {
   "cell_type": "code",
   "execution_count": 3,
   "id": "392cece1",
   "metadata": {},
   "outputs": [],
   "source": [
    "# importing the required libraries  \n",
    "import csv  \n",
    "import json  \n",
    "  \n",
    "# defining the function to convert CSV file to JSON file  \n",
    "def convjson(csvFilename, jsonFilename):  \n",
    "      \n",
    "    # creating a dictionary  \n",
    "    mydata = {}  \n",
    "      \n",
    "    # reading the data from CSV file  \n",
    "    with open(csvFilename, encoding = 'utf-8') as csvfile:  \n",
    "        csvRead = csv.DictReader(csvfile)  \n",
    "          \n",
    "        # Converting rows into dictionary and adding it to data  \n",
    "        for rows in csvRead:  \n",
    "              \n",
    "            mykey = rows['URL']  \n",
    "            mydata[mykey] = rows  \n",
    "  \n",
    "    # dumping the data  \n",
    "    with open(jsonFilename, 'w', encoding = 'utf-8') as jsonfile:  \n",
    "        jsonfile.write(json.dumps(mydata, indent = 4))  \n",
    "  \n",
    "# filenames       \n",
    "csvFilename = r'data.csv'  \n",
    "jsonFilename = r'data.json'  \n",
    "  \n",
    "# Calling the convjson function  \n",
    "convjson(csvFilename, jsonFilename)  "
   ]
  },
  {
   "cell_type": "code",
   "execution_count": null,
   "id": "01cb6d97",
   "metadata": {},
   "outputs": [],
   "source": []
  }
 ],
 "metadata": {
  "kernelspec": {
   "display_name": "Python 3",
   "language": "python",
   "name": "python3"
  },
  "language_info": {
   "codemirror_mode": {
    "name": "ipython",
    "version": 3
   },
   "file_extension": ".py",
   "mimetype": "text/x-python",
   "name": "python",
   "nbconvert_exporter": "python",
   "pygments_lexer": "ipython3",
   "version": "3.8.8"
  }
 },
 "nbformat": 4,
 "nbformat_minor": 5
}
