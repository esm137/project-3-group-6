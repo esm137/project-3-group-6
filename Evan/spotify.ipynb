{
 "cells": [
  {
   "cell_type": "code",
   "execution_count": 1,
   "id": "eb2676d2",
   "metadata": {},
   "outputs": [],
   "source": [
    "# importing the required libraries  \n",
    "import csv  \n",
    "import json \n",
    "import pandas as pd"
   ]
  },
  {
   "cell_type": "code",
   "execution_count": 2,
   "id": "e42915dc",
   "metadata": {},
   "outputs": [
    {
     "ename": "SyntaxError",
     "evalue": "(unicode error) 'unicodeescape' codec can't decode bytes in position 2-3: truncated \\UXXXXXXXX escape (<ipython-input-2-37f3e6a29dd0>, line 1)",
     "output_type": "error",
     "traceback": [
      "\u001b[1;36m  File \u001b[1;32m\"<ipython-input-2-37f3e6a29dd0>\"\u001b[1;36m, line \u001b[1;32m1\u001b[0m\n\u001b[1;33m    df = pd.read_csv(\"C:\\Users\\Evan Mickler\\Documents\\GitHub\\project-3-group-6\\Data\\Spotify_Worldwide_Daily_Song_Ranking.csv\")\u001b[0m\n\u001b[1;37m                     ^\u001b[0m\n\u001b[1;31mSyntaxError\u001b[0m\u001b[1;31m:\u001b[0m (unicode error) 'unicodeescape' codec can't decode bytes in position 2-3: truncated \\UXXXXXXXX escape\n"
     ]
    }
   ],
   "source": [
    "df = pd.read_csv(\"C:\\Users\\Evan Mickler\\Documents\\GitHub\\project-3-group-6\\Data\\Spotify_Worldwide_Daily_Song_Ranking.csv\")\n",
    "df.head(20)"
   ]
  },
  {
   "cell_type": "code",
   "execution_count": null,
   "id": "a9552a9b",
   "metadata": {},
   "outputs": [],
   "source": [
    "df[\"Region\"].value_counts()"
   ]
  },
  {
   "cell_type": "code",
   "execution_count": null,
   "id": "86294e2d",
   "metadata": {},
   "outputs": [],
   "source": [
    "df.loc[(df[\"Region\"]=='it'), \"Region\"]=\"Italy\"\n",
    "df.loc[(df[\"Region\"]=='de'), \"Region\"]=\"Denmark\"\n",
    "df.loc[(df[\"Region\"]=='no'), \"Region\"]=\"Norway\"\n",
    "df.loc[(df[\"Region\"]=='ar'), \"Region\"]=\"Argentina\"\n",
    "df.loc[(df[\"Region\"]=='tw'), \"Region\"]=\"Taiwan\"\n",
    "df.loc[(df[\"Region\"]=='nz'), \"Region\"]=\"New Zealand\"\n",
    "df.loc[(df[\"Region\"]=='fi'), \"Region\"]=\"Finland\"\n",
    "df.loc[(df[\"Region\"]=='us'), \"Region\"]=\"US\"\n",
    "df.loc[(df[\"Region\"]=='tr'), \"Region\"]=\"Turkey\"\n",
    "df.loc[(df[\"Region\"]=='ec'), \"Region\"]=\"Ecuador\"\n",
    "df.loc[(df[\"Region\"]=='ph'), \"Region\"]=\"Phillippines\"\n",
    "df.loc[(df[\"Region\"]=='fr'), \"Region\"]=\"France\"\n",
    "df.loc[(df[\"Region\"]=='cr'), \"Region\"]=\"Costa Rica\"\n",
    "df.loc[(df[\"Region\"]=='sv'), \"Region\"]=\"El Salvador\"\n",
    "df.loc[(df[\"Region\"]=='lt'), \"Region\"]=\"Lithuania\"\n",
    "df.loc[(df[\"Region\"]=='cl'), \"Region\"]=\"Chile\"\n",
    "df.loc[(df[\"Region\"]=='ee'), \"Region\"]=\"Estonia\""
   ]
  },
  {
   "cell_type": "code",
   "execution_count": null,
   "id": "6c5b9d86",
   "metadata": {},
   "outputs": [],
   "source": [
    "df.drop('Index', axis=1, inplace=True)"
   ]
  },
  {
   "cell_type": "code",
   "execution_count": null,
   "id": "76260311",
   "metadata": {},
   "outputs": [],
   "source": [
    "df.head()"
   ]
  },
  {
   "cell_type": "code",
   "execution_count": null,
   "id": "53eab026",
   "metadata": {},
   "outputs": [],
   "source": [
    "df.to_csv(\"spotify.csv\", index=False)"
   ]
  },
  {
   "cell_type": "code",
   "execution_count": null,
   "id": "01cb6d97",
   "metadata": {},
   "outputs": [],
   "source": []
  }
 ],
 "metadata": {
  "kernelspec": {
   "display_name": "Python 3",
   "language": "python",
   "name": "python3"
  },
  "language_info": {
   "codemirror_mode": {
    "name": "ipython",
    "version": 3
   },
   "file_extension": ".py",
   "mimetype": "text/x-python",
   "name": "python",
   "nbconvert_exporter": "python",
   "pygments_lexer": "ipython3",
   "version": "3.8.8"
  }
 },
 "nbformat": 4,
 "nbformat_minor": 5
}
